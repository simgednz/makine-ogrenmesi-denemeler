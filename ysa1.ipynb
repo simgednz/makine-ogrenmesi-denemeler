{
  "nbformat": 4,
  "nbformat_minor": 0,
  "metadata": {
    "colab": {
      "name": "Untitled12.ipynb",
      "provenance": [],
      "collapsed_sections": []
    },
    "kernelspec": {
      "name": "python3",
      "display_name": "Python 3"
    },
    "language_info": {
      "name": "python"
    }
  },
  "cells": [
    {
      "cell_type": "code",
      "execution_count": 1,
      "metadata": {
        "id": "bbnndmDdXG7C"
      },
      "outputs": [],
      "source": [
        "import pandas as  pd\n",
        "import numpy as np\n",
        "import matplotlib.pyplot as plt\n",
        "import seaborn as sns\n"
      ]
    },
    {
      "cell_type": "code",
      "source": [
        "!gdown --id 1QU_7IUsfpz19rx5Ud3efCE-rFdBgSEND"
      ],
      "metadata": {
        "colab": {
          "base_uri": "https://localhost:8080/"
        },
        "id": "QrJKWEajXc2h",
        "outputId": "18585ec3-900e-4538-aa0f-5550a73946ae"
      },
      "execution_count": 2,
      "outputs": [
        {
          "output_type": "stream",
          "name": "stdout",
          "text": [
            "/usr/local/lib/python3.7/dist-packages/gdown/cli.py:131: FutureWarning: Option `--id` was deprecated in version 4.3.1 and will be removed in 5.0. You don't need to pass it anymore to use a file ID.\n",
            "  category=FutureWarning,\n",
            "Downloading...\n",
            "From: https://drive.google.com/uc?id=1QU_7IUsfpz19rx5Ud3efCE-rFdBgSEND\n",
            "To: /content/sehirler - sehirler_saglikli.csv\n",
            "100% 3.60k/3.60k [00:00<00:00, 4.34MB/s]\n"
          ]
        }
      ]
    },
    {
      "cell_type": "code",
      "source": [
        "saglikk = pd.read_csv(\"sehirler - sehirler_saglikli.csv\")"
      ],
      "metadata": {
        "id": "2592Djz2Xf2B"
      },
      "execution_count": 3,
      "outputs": []
    },
    {
      "cell_type": "code",
      "source": [
        "X = saglikk[[\"Obesity levels(Country)\",\"Pollution(Index score) (City)\",\"Annual avg. hours worked\",\"Happiness levels(Country)\",\"Pollution(Index score) (City)\",]]\n",
        "y = saglikk[[\"Life expectancy(years) (Country)\"]]\n"
      ],
      "metadata": {
        "id": "dsu7aUmZYukf"
      },
      "execution_count": 4,
      "outputs": []
    },
    {
      "cell_type": "code",
      "source": [
        "from sklearn.model_selection import train_test_split\n",
        "x_train, x_test, y_train, y_test = train_test_split(X, y, test_size = 0.3,random_state=1)"
      ],
      "metadata": {
        "id": "0v3BeZGOYy8i"
      },
      "execution_count": 5,
      "outputs": []
    },
    {
      "cell_type": "code",
      "source": [
        "x_train, x_validation, y_train, y_validation = train_test_split(x_train, y_train, test_size = 0.1,random_state=1)"
      ],
      "metadata": {
        "id": "qigfgDOGZVsY"
      },
      "execution_count": 6,
      "outputs": []
    },
    {
      "cell_type": "code",
      "source": [
        "print(x_train.shape)\n",
        "print(x_test.shape)\n",
        "print(x_validation.shape)\n",
        "print(y_train.shape)\n",
        "print(y_test.shape)\n",
        "print(y_validation.shape)\n",
        "\n"
      ],
      "metadata": {
        "colab": {
          "base_uri": "https://localhost:8080/"
        },
        "id": "JmCd2-d1alsV",
        "outputId": "bee64f2b-5d1f-470a-875b-e9d73833173e"
      },
      "execution_count": 7,
      "outputs": [
        {
          "output_type": "stream",
          "name": "stdout",
          "text": [
            "(31, 5)\n",
            "(16, 5)\n",
            "(4, 5)\n",
            "(31, 1)\n",
            "(16, 1)\n",
            "(4, 1)\n"
          ]
        }
      ]
    },
    {
      "cell_type": "code",
      "source": [
        "from sklearn.preprocessing import MinMaxScaler, StandardScaler\n",
        "sc= MinMaxScaler()\n",
        "x_train = sc.fit_transform(x_train)\n",
        "x_test = sc.transform(x_test)\n",
        "x_validation = sc.transform(x_validation)"
      ],
      "metadata": {
        "id": "cD2Zr2tBbFiR"
      },
      "execution_count": 8,
      "outputs": []
    },
    {
      "cell_type": "code",
      "source": [
        "from tensorflow.keras.models import Sequential\n",
        "from tensorflow.keras.layers import Dense\n",
        "from tensorflow.keras.optimizers import Adam,SGD\n"
      ],
      "metadata": {
        "id": "imzwGE3adnm5"
      },
      "execution_count": 9,
      "outputs": []
    },
    {
      "cell_type": "code",
      "source": [
        "from tensorflow.keras.callbacks import EarlyStopping"
      ],
      "metadata": {
        "id": "AnGYvfWqd-ii"
      },
      "execution_count": 10,
      "outputs": []
    },
    {
      "cell_type": "code",
      "source": [
        "model = Sequential()\n",
        "model.add(Dense(15, input_dim=5, activation='relu'))\n",
        "model.add(Dense(10, activation='relu'))\n",
        "model.add(Dense(1, activation='linear'))"
      ],
      "metadata": {
        "id": "wvpNUa-8eJIx"
      },
      "execution_count": 11,
      "outputs": []
    },
    {
      "cell_type": "code",
      "source": [
        "opt = Adam(learning_rate=0.01,\n",
        "    beta_1=0.9,\n",
        "    beta_2=0.979)\n",
        "model.compile(loss='mean_squared_error', optimizer=opt)"
      ],
      "metadata": {
        "id": "vRo7rKsSeykp"
      },
      "execution_count": 12,
      "outputs": []
    },
    {
      "cell_type": "code",
      "source": [
        "monitor = EarlyStopping(monitor='val_loss', min_delta=1e-3, patience=25, verbose=1, mode='auto', restore_best_weights=True)"
      ],
      "metadata": {
        "id": "8zeFhjtvf9rP"
      },
      "execution_count": 13,
      "outputs": []
    },
    {
      "cell_type": "code",
      "source": [
        "history = model.fit(x_train,y_train,validation_data=(x_validation,y_validation),callbacks=[monitor], verbose=0, epochs=4000)"
      ],
      "metadata": {
        "colab": {
          "base_uri": "https://localhost:8080/"
        },
        "id": "tNHRlKfYgwzg",
        "outputId": "0e34cb8f-23bf-48d4-afc8-945bf9fe6620"
      },
      "execution_count": 14,
      "outputs": [
        {
          "output_type": "stream",
          "name": "stdout",
          "text": [
            "Restoring model weights from the end of the best epoch: 229.\n",
            "Epoch 254: early stopping\n"
          ]
        }
      ]
    },
    {
      "cell_type": "code",
      "source": [
        "plt.plot(history.history['loss'])\n",
        "plt.plot(history.history['val_loss'])\n",
        "plt.title('model loss')\n",
        "plt.ylabel('loss')\n",
        "plt.xlabel('epoch')\n",
        "plt.legend(['train','validation'], loc='upper right')\n",
        "plt.show()"
      ],
      "metadata": {
        "id": "1hdX55YOtN7h",
        "colab": {
          "base_uri": "https://localhost:8080/",
          "height": 295
        },
        "outputId": "7a0f0b46-ac52-4310-9586-b1544d08a9cd"
      },
      "execution_count": 15,
      "outputs": [
        {
          "output_type": "display_data",
          "data": {
            "text/plain": [
              "<Figure size 432x288 with 1 Axes>"
            ],
            "image/png": "[encoded data removed]"
          },
          "metadata": {
            "needs_background": "light"
          }
        }
      ]
    },
    {
      "cell_type": "code",
      "source": [
        "tahminler = model.predict(x_test)\n",
        "from sklearn import metrics\n",
        "HataDegeri = metrics.mean_squared_error(y_test.values.reshape(-1,), tahminler.reshape(-1,))\n",
        "print(\"ortalama kare hatası:\" , HataDegeri)"
      ],
      "metadata": {
        "id": "S4Rw_YoHuKFs",
        "colab": {
          "base_uri": "https://localhost:8080/"
        },
        "outputId": "f6c0b2c7-2f5f-4a44-ec1e-aea877dcb0a1"
      },
      "execution_count": 16,
      "outputs": [
        {
          "output_type": "stream",
          "name": "stdout",
          "text": [
            "ortalama kare hatası: 43.39410356240485\n"
          ]
        }
      ]
    },
    {
      "cell_type": "code",
      "source": [
        "model.save(\"network.h5\")"
      ],
      "metadata": {
        "id": "LLKLRfWzvCvQ"
      },
      "execution_count": 17,
      "outputs": []
    },
    {
      "cell_type": "code",
      "source": [
        "from tensorflow.keras.models import load_model\n",
        "model2 = load_model(\"network.h5\")\n",
        "tahminler = model2.predict(x_test)\n",
        "from sklearn import metrics\n",
        "HataDegeri = metrics.mean_squared_error(y_test.values.reshape(-1,), tahminler.reshape(-1,))\n",
        "print(\"ortalama kare hatası:\" , HataDegeri)"
      ],
      "metadata": {
        "colab": {
          "base_uri": "https://localhost:8080/"
        },
        "id": "eK9SBg9foAQR",
        "outputId": "79856cc2-f920-499a-e065-31f6a278994d"
      },
      "execution_count": 18,
      "outputs": [
        {
          "output_type": "stream",
          "name": "stdout",
          "text": [
            "ortalama kare hatası: 43.39410356240485\n"
          ]
        }
      ]
    }
  ]
}