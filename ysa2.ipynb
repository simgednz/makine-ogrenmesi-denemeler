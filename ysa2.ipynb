{
  "nbformat": 4,
  "nbformat_minor": 0,
  "metadata": {
    "colab": {
      "name": "Untitled13.ipynb",
      "provenance": [],
      "collapsed_sections": []
    },
    "kernelspec": {
      "name": "python3",
      "display_name": "Python 3"
    },
    "language_info": {
      "name": "python"
    }
  },
  "cells": [
    {
      "cell_type": "code",
      "execution_count": 1,
      "metadata": {
        "id": "1SymWSIJvE3w"
      },
      "outputs": [],
      "source": [
        "import pandas as  pd\n",
        "import numpy as np\n",
        "import matplotlib.pyplot as plt\n",
        "import seaborn as sns\n"
      ]
    },
    {
      "cell_type": "code",
      "source": [
        "!gdown --id 1QU_7IUsfpz19rx5Ud3efCE-rFdBgSEND"
      ],
      "metadata": {
        "colab": {
          "base_uri": "https://localhost:8080/"
        },
        "id": "9I3mm-1IvQE1",
        "outputId": "0fd13842-ac55-43a2-c185-f62beeaaed64"
      },
      "execution_count": 2,
      "outputs": [
        {
          "output_type": "stream",
          "name": "stdout",
          "text": [
            "/usr/local/lib/python3.7/dist-packages/gdown/cli.py:131: FutureWarning: Option `--id` was deprecated in version 4.3.1 and will be removed in 5.0. You don't need to pass it anymore to use a file ID.\n",
            "  category=FutureWarning,\n",
            "Downloading...\n",
            "From: https://drive.google.com/uc?id=1QU_7IUsfpz19rx5Ud3efCE-rFdBgSEND\n",
            "To: /content/sehirler - sehirler_saglikli.csv\n",
            "100% 3.60k/3.60k [00:00<00:00, 6.07MB/s]\n"
          ]
        }
      ]
    },
    {
      "cell_type": "code",
      "source": [
        "saglikk = pd.read_csv(\"sehirler - sehirler_saglikli.csv\")"
      ],
      "metadata": {
        "id": "4MMzyqSRvTb_"
      },
      "execution_count": 3,
      "outputs": []
    },
    {
      "cell_type": "code",
      "source": [
        "saglikk.info()\n"
      ],
      "metadata": {
        "colab": {
          "base_uri": "https://localhost:8080/"
        },
        "id": "G2flTS_0vWcH",
        "outputId": "437904e2-9a30-4ed2-8cf0-2d5199395c1a"
      },
      "execution_count": 4,
      "outputs": [
        {
          "output_type": "stream",
          "name": "stdout",
          "text": [
            "<class 'pandas.core.frame.DataFrame'>\n",
            "RangeIndex: 51 entries, 0 to 50\n",
            "Data columns (total 12 columns):\n",
            " #   Column                                  Non-Null Count  Dtype  \n",
            "---  ------                                  --------------  -----  \n",
            " 0   City                                    51 non-null     object \n",
            " 1   Rank                                    51 non-null     int64  \n",
            " 2   Sunshine hours(City)                    51 non-null     int64  \n",
            " 3   Cost of a bottle of water(City)         51 non-null     float64\n",
            " 4   Obesity levels(Country)                 51 non-null     float64\n",
            " 5   Life expectancy(years) (Country)        51 non-null     float64\n",
            " 6   Pollution(Index score) (City)           51 non-null     float64\n",
            " 7   Annual avg. hours worked                51 non-null     int64  \n",
            " 8   Happiness levels(Country)               51 non-null     float64\n",
            " 9   Outdoor activities(City)                51 non-null     int64  \n",
            " 10  Number of take out places(City)         51 non-null     int64  \n",
            " 11  Cost of a monthly gym membership(City)  51 non-null     float64\n",
            "dtypes: float64(6), int64(5), object(1)\n",
            "memory usage: 4.9+ KB\n"
          ]
        }
      ]
    },
    {
      "cell_type": "code",
      "source": [
        "saglikk.head()"
      ],
      "metadata": {
        "colab": {
          "base_uri": "https://localhost:8080/",
          "height": 285
        },
        "id": "CfKSk6A6vaOy",
        "outputId": "77b57f8b-80bf-4316-8546-55292ca61eab"
      },
      "execution_count": 5,
      "outputs": [
        {
          "output_type": "execute_result",
          "data": {
            "text/plain": [
              "         City  Rank  Sunshine hours(City)  Cost of a bottle of water(City)  \\\n",
              "0   Amsterdam     1                  1858                             1.92   \n",
              "1      Sydney     2                  2636                             1.48   \n",
              "2      Vienna     3                  1884                             1.94   \n",
              "3   Stockholm     4                  1821                             1.72   \n",
              "4  Copenhagen     5                  1630                             2.19   \n",
              "\n",
              "   Obesity levels(Country)  Life expectancy(years) (Country)  \\\n",
              "0                     20.4                              81.2   \n",
              "1                     29.0                              82.1   \n",
              "2                     20.1                              81.0   \n",
              "3                     20.6                              81.8   \n",
              "4                     19.7                              79.8   \n",
              "\n",
              "   Pollution(Index score) (City)  Annual avg. hours worked  \\\n",
              "0                          30.93                      1434   \n",
              "1                          26.86                      1712   \n",
              "2                          17.33                      1501   \n",
              "3                          19.63                      1452   \n",
              "4                          21.24                      1380   \n",
              "\n",
              "   Happiness levels(Country)  Outdoor activities(City)  \\\n",
              "0                       7.44                       422   \n",
              "1                       7.22                       406   \n",
              "2                       7.29                       132   \n",
              "3                       7.35                       129   \n",
              "4                       7.64                       154   \n",
              "\n",
              "   Number of take out places(City)  Cost of a monthly gym membership(City)  \n",
              "0                             1048                                   34.90  \n",
              "1                             1103                                   41.66  \n",
              "2                             1008                                   25.74  \n",
              "3                              598                                   37.31  \n",
              "4                              523                                   32.53  "
            ],
            "text/html": [
              "\n",
              "  <div id=\"df-4bb2c064-be26-4ab0-89dd-ddc631ca92ab\">\n",
              "    <div class=\"colab-df-container\">\n",
              "      <div>\n",
              "<style scoped>\n",
              "    .dataframe tbody tr th:only-of-type {\n",
              "        vertical-align: middle;\n",
              "    }\n",
              "\n",
              "    .dataframe tbody tr th {\n",
              "        vertical-align: top;\n",
              "    }\n",
              "\n",
              "    .dataframe thead th {\n",
              "        text-align: right;\n",
              "    }\n",
              "</style>\n",
              "<table border=\"1\" class=\"dataframe\">\n",
              "  <thead>\n",
              "    <tr style=\"text-align: right;\">\n",
              "      <th></th>\n",
              "      <th>City</th>\n",
              "      <th>Rank</th>\n",
              "      <th>Sunshine hours(City)</th>\n",
              "      <th>Cost of a bottle of water(City)</th>\n",
              "      <th>Obesity levels(Country)</th>\n",
              "      <th>Life expectancy(years) (Country)</th>\n",
              "      <th>Pollution(Index score) (City)</th>\n",
              "      <th>Annual avg. hours worked</th>\n",
              "      <th>Happiness levels(Country)</th>\n",
              "      <th>Outdoor activities(City)</th>\n",
              "      <th>Number of take out places(City)</th>\n",
              "      <th>Cost of a monthly gym membership(City)</th>\n",
              "    </tr>\n",
              "  </thead>\n",
              "  <tbody>\n",
              "    <tr>\n",
              "      <th>0</th>\n",
              "      <td>Amsterdam</td>\n",
              "      <td>1</td>\n",
              "      <td>1858</td>\n",
              "      <td>1.92</td>\n",
              "      <td>20.4</td>\n",
              "      <td>81.2</td>\n",
              "      <td>30.93</td>\n",
              "      <td>1434</td>\n",
              "      <td>7.44</td>\n",
              "      <td>422</td>\n",
              "      <td>1048</td>\n",
              "      <td>34.90</td>\n",
              "    </tr>\n",
              "    <tr>\n",
              "      <th>1</th>\n",
              "      <td>Sydney</td>\n",
              "      <td>2</td>\n",
              "      <td>2636</td>\n",
              "      <td>1.48</td>\n",
              "      <td>29.0</td>\n",
              "      <td>82.1</td>\n",
              "      <td>26.86</td>\n",
              "      <td>1712</td>\n",
              "      <td>7.22</td>\n",
              "      <td>406</td>\n",
              "      <td>1103</td>\n",
              "      <td>41.66</td>\n",
              "    </tr>\n",
              "    <tr>\n",
              "      <th>2</th>\n",
              "      <td>Vienna</td>\n",
              "      <td>3</td>\n",
              "      <td>1884</td>\n",
              "      <td>1.94</td>\n",
              "      <td>20.1</td>\n",
              "      <td>81.0</td>\n",
              "      <td>17.33</td>\n",
              "      <td>1501</td>\n",
              "      <td>7.29</td>\n",
              "      <td>132</td>\n",
              "      <td>1008</td>\n",
              "      <td>25.74</td>\n",
              "    </tr>\n",
              "    <tr>\n",
              "      <th>3</th>\n",
              "      <td>Stockholm</td>\n",
              "      <td>4</td>\n",
              "      <td>1821</td>\n",
              "      <td>1.72</td>\n",
              "      <td>20.6</td>\n",
              "      <td>81.8</td>\n",
              "      <td>19.63</td>\n",
              "      <td>1452</td>\n",
              "      <td>7.35</td>\n",
              "      <td>129</td>\n",
              "      <td>598</td>\n",
              "      <td>37.31</td>\n",
              "    </tr>\n",
              "    <tr>\n",
              "      <th>4</th>\n",
              "      <td>Copenhagen</td>\n",
              "      <td>5</td>\n",
              "      <td>1630</td>\n",
              "      <td>2.19</td>\n",
              "      <td>19.7</td>\n",
              "      <td>79.8</td>\n",
              "      <td>21.24</td>\n",
              "      <td>1380</td>\n",
              "      <td>7.64</td>\n",
              "      <td>154</td>\n",
              "      <td>523</td>\n",
              "      <td>32.53</td>\n",
              "    </tr>\n",
              "  </tbody>\n",
              "</table>\n",
              "</div>\n",
              "      <button class=\"colab-df-convert\" onclick=\"convertToInteractive('df-4bb2c064-be26-4ab0-89dd-ddc631ca92ab')\"\n",
              "              title=\"Convert this dataframe to an interactive table.\"\n",
              "              style=\"display:none;\">\n",
              "        \n",
              "  <svg xmlns=\"http://www.w3.org/2000/svg\" height=\"24px\"viewBox=\"0 0 24 24\"\n",
              "       width=\"24px\">\n",
              "    <path d=\"M0 0h24v24H0V0z\" fill=\"none\"/>\n",
              "    <path d=\"M18.56 5.44l.94 2.06.94-2.06 2.06-.94-2.06-.94-.94-2.06-.94 2.06-2.06.94zm-11 1L8.5 8.5l.94-2.06 2.06-.94-2.06-.94L8.5 2.5l-.94 2.06-2.06.94zm10 10l.94 2.06.94-2.06 2.06-.94-2.06-.94-.94-2.06-.94 2.06-2.06.94z\"/><path d=\"M17.41 7.96l-1.37-1.37c-.4-.4-.92-.59-1.43-.59-.52 0-1.04.2-1.43.59L10.3 9.45l-7.72 7.72c-.78.78-.78 2.05 0 2.83L4 21.41c.39.39.9.59 1.41.59.51 0 1.02-.2 1.41-.59l7.78-7.78 2.81-2.81c.8-.78.8-2.07 0-2.86zM5.41 20L4 18.59l7.72-7.72 1.47 1.35L5.41 20z\"/>\n",
              "  </svg>\n",
              "      </button>\n",
              "      \n",
              "  <style>\n",
              "    .colab-df-container {\n",
              "      display:flex;\n",
              "      flex-wrap:wrap;\n",
              "      gap: 12px;\n",
              "    }\n",
              "\n",
              "    .colab-df-convert {\n",
              "      background-color: #E8F0FE;\n",
              "      border: none;\n",
              "      border-radius: 50%;\n",
              "      cursor: pointer;\n",
              "      display: none;\n",
              "      fill: #1967D2;\n",
              "      height: 32px;\n",
              "      padding: 0 0 0 0;\n",
              "      width: 32px;\n",
              "    }\n",
              "\n",
              "    .colab-df-convert:hover {\n",
              "      background-color: #E2EBFA;\n",
              "      box-shadow: 0px 1px 2px rgba(60, 64, 67, 0.3), 0px 1px 3px 1px rgba(60, 64, 67, 0.15);\n",
              "      fill: #174EA6;\n",
              "    }\n",
              "\n",
              "    [theme=dark] .colab-df-convert {\n",
              "      background-color: #3B4455;\n",
              "      fill: #D2E3FC;\n",
              "    }\n",
              "\n",
              "    [theme=dark] .colab-df-convert:hover {\n",
              "      background-color: #434B5C;\n",
              "      box-shadow: 0px 1px 3px 1px rgba(0, 0, 0, 0.15);\n",
              "      filter: drop-shadow(0px 1px 2px rgba(0, 0, 0, 0.3));\n",
              "      fill: #FFFFFF;\n",
              "    }\n",
              "  </style>\n",
              "\n",
              "      <script>\n",
              "        const buttonEl =\n",
              "          document.querySelector('#df-4bb2c064-be26-4ab0-89dd-ddc631ca92ab button.colab-df-convert');\n",
              "        buttonEl.style.display =\n",
              "          google.colab.kernel.accessAllowed ? 'block' : 'none';\n",
              "\n",
              "        async function convertToInteractive(key) {\n",
              "          const element = document.querySelector('#df-4bb2c064-be26-4ab0-89dd-ddc631ca92ab');\n",
              "          const dataTable =\n",
              "            await google.colab.kernel.invokeFunction('convertToInteractive',\n",
              "                                                     [key], {});\n",
              "          if (!dataTable) return;\n",
              "\n",
              "          const docLinkHtml = 'Like what you see? Visit the ' +\n",
              "            '<a target=\"_blank\" href=https://colab.research.google.com/notebooks/data_table.ipynb>data table notebook</a>'\n",
              "            + ' to learn more about interactive tables.';\n",
              "          element.innerHTML = '';\n",
              "          dataTable['output_type'] = 'display_data';\n",
              "          await google.colab.output.renderOutput(dataTable, element);\n",
              "          const docLink = document.createElement('div');\n",
              "          docLink.innerHTML = docLinkHtml;\n",
              "          element.appendChild(docLink);\n",
              "        }\n",
              "      </script>\n",
              "    </div>\n",
              "  </div>\n",
              "  "
            ]
          },
          "metadata": {},
          "execution_count": 5
        }
      ]
    },
    {
      "cell_type": "code",
      "source": [
        "X = saglikk[[\"Obesity levels(Country)\",\"Pollution(Index score) (City)\",\"Annual avg. hours worked\",\"Happiness levels(Country)\",\"Pollution(Index score) (City)\",]]\n",
        "y = saglikk[[\"Life expectancy(years) (Country)\"]]"
      ],
      "metadata": {
        "id": "PoV9zOJzvfKk"
      },
      "execution_count": 6,
      "outputs": []
    },
    {
      "cell_type": "code",
      "source": [
        "from sklearn.model_selection import train_test_split\n",
        "x_train, x_test, y_train, y_test = train_test_split(X, y, test_size = 0.3,random_state=1)"
      ],
      "metadata": {
        "id": "TZ21ef5dvlSc"
      },
      "execution_count": 7,
      "outputs": []
    },
    {
      "cell_type": "code",
      "source": [
        "print(x_train.shape)\n",
        "print(x_test.shape)\n",
        "print(y_train.shape)\n",
        "print(y_test.shape)"
      ],
      "metadata": {
        "colab": {
          "base_uri": "https://localhost:8080/"
        },
        "id": "UsqwdgrFvsPu",
        "outputId": "fdf86145-dfa3-4ac3-e380-d118d20b6aca"
      },
      "execution_count": 8,
      "outputs": [
        {
          "output_type": "stream",
          "name": "stdout",
          "text": [
            "(35, 5)\n",
            "(16, 5)\n",
            "(35, 1)\n",
            "(16, 1)\n"
          ]
        }
      ]
    },
    {
      "cell_type": "code",
      "source": [
        "from sklearn.preprocessing import MinMaxScaler, StandardScaler\n",
        "sc= MinMaxScaler()\n",
        "x_train = sc.fit_transform(x_train)\n",
        "x_test = sc.transform(x_test)"
      ],
      "metadata": {
        "id": "k6MnSygRv9E0"
      },
      "execution_count": 9,
      "outputs": []
    },
    {
      "cell_type": "code",
      "source": [
        "from tensorflow.keras.models import Sequential\n",
        "from tensorflow.keras.layers import Dense\n",
        "from tensorflow.keras.optimizers import Adam,SGD"
      ],
      "metadata": {
        "id": "4gBexdTdwHW7"
      },
      "execution_count": 10,
      "outputs": []
    },
    {
      "cell_type": "code",
      "source": [
        "model = Sequential()\n",
        "model.add(Dense(15, input_dim=5, activation='relu'))\n",
        "model.add(Dense(10, activation='relu'))\n",
        "model.add(Dense(1, activation='linear'))"
      ],
      "metadata": {
        "id": "QDUqy2FZwK7F"
      },
      "execution_count": 11,
      "outputs": []
    },
    {
      "cell_type": "code",
      "source": [
        "opt = Adam(learning_rate=0.01,\n",
        "    beta_1=0.9,\n",
        "    beta_2=0.979)\n",
        "model.compile(loss='mean_squared_error', optimizer=opt)\n",
        "history = model.fit(x_train,y_train,verbose=0, epochs=4000)"
      ],
      "metadata": {
        "id": "W-zCOaVPwUne"
      },
      "execution_count": 12,
      "outputs": []
    },
    {
      "cell_type": "code",
      "source": [
        "plt.plot(history.history['loss'])\n",
        "plt.title('model loss')\n",
        "plt.ylabel('loss')\n",
        "plt.xlabel('epoch')\n",
        "plt.legend(['train'], loc='upper right')\n",
        "plt.show()"
      ],
      "metadata": {
        "colab": {
          "base_uri": "https://localhost:8080/",
          "height": 295
        },
        "id": "MgVD08a_wyzK",
        "outputId": "2343a0c7-1215-4675-b2d5-c1efe3325ca2"
      },
      "execution_count": 13,
      "outputs": [
        {
          "output_type": "display_data",
          "data": {
            "text/plain": [
              "<Figure size 432x288 with 1 Axes>"
            ],
            "image/png": "[encoded data removed]"
          },
          "metadata": {
            "needs_background": "light"
          }
        }
      ]
    },
    {
      "cell_type": "code",
      "source": [
        "modelTahmin = model.predict([[20.40,30.93,1434,7.44,30.93]])\n",
        "print(\"modelin tahmin:\", modelTahmin)"
      ],
      "metadata": {
        "id": "xDSxIhOcxIq7",
        "colab": {
          "base_uri": "https://localhost:8080/"
        },
        "outputId": "3ce41007-8769-40ac-85e8-f2d096884eb9"
      },
      "execution_count": 14,
      "outputs": [
        {
          "output_type": "stream",
          "name": "stdout",
          "text": [
            "modelin tahmin: [[2937.956]]\n"
          ]
        }
      ]
    },
    {
      "cell_type": "code",
      "source": [
        "tahminler = model.predict(x_test)"
      ],
      "metadata": {
        "id": "UQCv1vfYxh8A"
      },
      "execution_count": 15,
      "outputs": []
    },
    {
      "cell_type": "code",
      "source": [
        "tahmin_ve_sonuclar = pd.DataFrame({\"Gerçek Değerler\" : y_test.values.reshape(-1,), \"Tahminler\" : tahminler.reshape(-1,)})"
      ],
      "metadata": {
        "id": "dHpGlH47i3tM"
      },
      "execution_count": 16,
      "outputs": []
    },
    {
      "cell_type": "code",
      "source": [
        "tahmin_ve_sonuclar.head()\n",
        "sns.lineplot(data=tahmin_ve_sonuclar,markers=True)"
      ],
      "metadata": {
        "id": "BX17NYEgxmtT",
        "colab": {
          "base_uri": "https://localhost:8080/",
          "height": 282
        },
        "outputId": "051d9dbd-0afe-4080-a8d4-5cb1fb4b0128"
      },
      "execution_count": 17,
      "outputs": [
        {
          "output_type": "execute_result",
          "data": {
            "text/plain": [
              "<matplotlib.axes._subplots.AxesSubplot at 0x7f8f35a2ca90>"
            ]
          },
          "metadata": {},
          "execution_count": 17
        },
        {
          "output_type": "display_data",
          "data": {
            "text/plain": [
              "<Figure size 432x288 with 1 Axes>"
            ],
            "image/png": "[encoded data removed]"
          },
          "metadata": {
            "needs_background": "light"
          }
        }
      ]
    },
    {
      "cell_type": "code",
      "source": [
        "from sklearn import metrics\n",
        "HataDegeri = metrics.mean_squared_error(y_test.values.reshape(-1,), tahminler.reshape(-1,))\n",
        "print(\"ortalama kare hatası:\", HataDegeri)"
      ],
      "metadata": {
        "id": "2d3tEJMayQT2",
        "colab": {
          "base_uri": "https://localhost:8080/"
        },
        "outputId": "da6ed480-17a0-4a29-c18a-b18079857124"
      },
      "execution_count": 18,
      "outputs": [
        {
          "output_type": "stream",
          "name": "stdout",
          "text": [
            "ortalama kare hatası: 46.30176936198498\n"
          ]
        }
      ]
    }
  ]
}